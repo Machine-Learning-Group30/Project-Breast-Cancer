{
 "cells": [
  {
   "cell_type": "code",
   "execution_count": 2,
   "metadata": {
    "collapsed": true
   },
   "outputs": [],
   "source": [
    "# Import required libraries\n",
    "import numpy as np\n",
    "import sklearn\n",
    "import pandas as pd\n",
    "%matplotlib inline"
   ]
  },
  {
   "cell_type": "markdown",
   "metadata": {},
   "source": [
    "# Import data"
   ]
  },
  {
   "cell_type": "code",
   "execution_count": 14,
   "metadata": {
    "collapsed": true
   },
   "outputs": [],
   "source": [
    "# Open CSV file of the data\n",
    "data = pd.read_csv('normalized_trainingdata.csv', index_col=0)"
   ]
  },
  {
   "cell_type": "code",
   "execution_count": 25,
   "metadata": {},
   "outputs": [
    {
     "data": {
      "text/html": [
       "<div>\n",
       "<style>\n",
       "    .dataframe thead tr:only-child th {\n",
       "        text-align: right;\n",
       "    }\n",
       "\n",
       "    .dataframe thead th {\n",
       "        text-align: left;\n",
       "    }\n",
       "\n",
       "    .dataframe tbody tr th {\n",
       "        vertical-align: top;\n",
       "    }\n",
       "</style>\n",
       "<table border=\"1\" class=\"dataframe\">\n",
       "  <thead>\n",
       "    <tr style=\"text-align: right;\">\n",
       "      <th></th>\n",
       "      <th>id</th>\n",
       "      <th>radius_mean</th>\n",
       "      <th>texture_mean</th>\n",
       "      <th>perimeter_mean</th>\n",
       "      <th>area_mean</th>\n",
       "      <th>smoothness_mean</th>\n",
       "      <th>compactness_mean</th>\n",
       "      <th>concavity_mean</th>\n",
       "      <th>concave_points_mean</th>\n",
       "      <th>symmetry_mean</th>\n",
       "      <th>...</th>\n",
       "      <th>texture_worst</th>\n",
       "      <th>perimeter_worst</th>\n",
       "      <th>area_worst</th>\n",
       "      <th>smoothness_worst</th>\n",
       "      <th>compactness_worst</th>\n",
       "      <th>concavity_worst</th>\n",
       "      <th>concave_points_worst</th>\n",
       "      <th>symmetry_worst</th>\n",
       "      <th>fractal_dimension_worst</th>\n",
       "      <th>diagnosis</th>\n",
       "    </tr>\n",
       "  </thead>\n",
       "  <tbody>\n",
       "    <tr>\n",
       "      <th>392</th>\n",
       "      <td>903507</td>\n",
       "      <td>-0.239005</td>\n",
       "      <td>0.438392</td>\n",
       "      <td>-0.263563</td>\n",
       "      <td>-0.233494</td>\n",
       "      <td>1.227238</td>\n",
       "      <td>-0.550261</td>\n",
       "      <td>-0.745273</td>\n",
       "      <td>-0.592632</td>\n",
       "      <td>2.638762</td>\n",
       "      <td>...</td>\n",
       "      <td>-0.145558</td>\n",
       "      <td>-0.428577</td>\n",
       "      <td>-0.349350</td>\n",
       "      <td>-0.119256</td>\n",
       "      <td>-0.972078</td>\n",
       "      <td>-0.969862</td>\n",
       "      <td>-0.794466</td>\n",
       "      <td>0.510919</td>\n",
       "      <td>-1.092594</td>\n",
       "      <td>M</td>\n",
       "    </tr>\n",
       "    <tr>\n",
       "      <th>150</th>\n",
       "      <td>871001501</td>\n",
       "      <td>-0.429974</td>\n",
       "      <td>-0.467354</td>\n",
       "      <td>-0.509636</td>\n",
       "      <td>-0.411892</td>\n",
       "      <td>-1.528609</td>\n",
       "      <td>-1.388717</td>\n",
       "      <td>-0.996507</td>\n",
       "      <td>-0.854272</td>\n",
       "      <td>-1.266571</td>\n",
       "      <td>...</td>\n",
       "      <td>-0.867471</td>\n",
       "      <td>-0.794639</td>\n",
       "      <td>-0.676082</td>\n",
       "      <td>-2.149090</td>\n",
       "      <td>-1.462664</td>\n",
       "      <td>-1.325090</td>\n",
       "      <td>-1.364965</td>\n",
       "      <td>-1.685291</td>\n",
       "      <td>-1.373434</td>\n",
       "      <td>B</td>\n",
       "    </tr>\n",
       "    <tr>\n",
       "      <th>117</th>\n",
       "      <td>864729</td>\n",
       "      <td>-0.365432</td>\n",
       "      <td>1.087851</td>\n",
       "      <td>-0.370005</td>\n",
       "      <td>-0.329087</td>\n",
       "      <td>-1.273222</td>\n",
       "      <td>-0.562195</td>\n",
       "      <td>-0.429223</td>\n",
       "      <td>-0.760788</td>\n",
       "      <td>-1.106241</td>\n",
       "      <td>...</td>\n",
       "      <td>0.932695</td>\n",
       "      <td>-0.434338</td>\n",
       "      <td>-0.327802</td>\n",
       "      <td>-0.425402</td>\n",
       "      <td>0.629745</td>\n",
       "      <td>0.632887</td>\n",
       "      <td>0.074840</td>\n",
       "      <td>-0.093767</td>\n",
       "      <td>0.636523</td>\n",
       "      <td>M</td>\n",
       "    </tr>\n",
       "    <tr>\n",
       "      <th>38</th>\n",
       "      <td>855133</td>\n",
       "      <td>-0.962562</td>\n",
       "      <td>-0.306445</td>\n",
       "      <td>-0.934186</td>\n",
       "      <td>-0.974342</td>\n",
       "      <td>0.030707</td>\n",
       "      <td>-0.124418</td>\n",
       "      <td>-0.453006</td>\n",
       "      <td>-0.553292</td>\n",
       "      <td>-0.707961</td>\n",
       "      <td>...</td>\n",
       "      <td>0.244852</td>\n",
       "      <td>-1.029215</td>\n",
       "      <td>-1.107727</td>\n",
       "      <td>0.448613</td>\n",
       "      <td>0.022443</td>\n",
       "      <td>-0.241771</td>\n",
       "      <td>-0.226426</td>\n",
       "      <td>-1.003151</td>\n",
       "      <td>-0.074812</td>\n",
       "      <td>M</td>\n",
       "    </tr>\n",
       "    <tr>\n",
       "      <th>319</th>\n",
       "      <td>894335</td>\n",
       "      <td>-0.579481</td>\n",
       "      <td>1.836321</td>\n",
       "      <td>-0.605254</td>\n",
       "      <td>-0.571640</td>\n",
       "      <td>-0.880673</td>\n",
       "      <td>-0.777957</td>\n",
       "      <td>-0.618262</td>\n",
       "      <td>-0.786001</td>\n",
       "      <td>-0.723067</td>\n",
       "      <td>...</td>\n",
       "      <td>1.724364</td>\n",
       "      <td>-0.656453</td>\n",
       "      <td>-0.648614</td>\n",
       "      <td>-0.508829</td>\n",
       "      <td>-0.425796</td>\n",
       "      <td>-0.407535</td>\n",
       "      <td>-0.662139</td>\n",
       "      <td>-0.731524</td>\n",
       "      <td>-0.120822</td>\n",
       "      <td>B</td>\n",
       "    </tr>\n",
       "  </tbody>\n",
       "</table>\n",
       "<p>5 rows × 32 columns</p>\n",
       "</div>"
      ],
      "text/plain": [
       "            id  radius_mean  texture_mean  perimeter_mean  area_mean  \\\n",
       "392     903507    -0.239005      0.438392       -0.263563  -0.233494   \n",
       "150  871001501    -0.429974     -0.467354       -0.509636  -0.411892   \n",
       "117     864729    -0.365432      1.087851       -0.370005  -0.329087   \n",
       "38      855133    -0.962562     -0.306445       -0.934186  -0.974342   \n",
       "319     894335    -0.579481      1.836321       -0.605254  -0.571640   \n",
       "\n",
       "     smoothness_mean  compactness_mean  concavity_mean  concave_points_mean  \\\n",
       "392         1.227238         -0.550261       -0.745273            -0.592632   \n",
       "150        -1.528609         -1.388717       -0.996507            -0.854272   \n",
       "117        -1.273222         -0.562195       -0.429223            -0.760788   \n",
       "38          0.030707         -0.124418       -0.453006            -0.553292   \n",
       "319        -0.880673         -0.777957       -0.618262            -0.786001   \n",
       "\n",
       "     symmetry_mean    ...      texture_worst  perimeter_worst  area_worst  \\\n",
       "392       2.638762    ...          -0.145558        -0.428577   -0.349350   \n",
       "150      -1.266571    ...          -0.867471        -0.794639   -0.676082   \n",
       "117      -1.106241    ...           0.932695        -0.434338   -0.327802   \n",
       "38       -0.707961    ...           0.244852        -1.029215   -1.107727   \n",
       "319      -0.723067    ...           1.724364        -0.656453   -0.648614   \n",
       "\n",
       "     smoothness_worst  compactness_worst  concavity_worst  \\\n",
       "392         -0.119256          -0.972078        -0.969862   \n",
       "150         -2.149090          -1.462664        -1.325090   \n",
       "117         -0.425402           0.629745         0.632887   \n",
       "38           0.448613           0.022443        -0.241771   \n",
       "319         -0.508829          -0.425796        -0.407535   \n",
       "\n",
       "     concave_points_worst  symmetry_worst  fractal_dimension_worst  diagnosis  \n",
       "392             -0.794466        0.510919                -1.092594          M  \n",
       "150             -1.364965       -1.685291                -1.373434          B  \n",
       "117              0.074840       -0.093767                 0.636523          M  \n",
       "38              -0.226426       -1.003151                -0.074812          M  \n",
       "319             -0.662139       -0.731524                -0.120822          B  \n",
       "\n",
       "[5 rows x 32 columns]"
      ]
     },
     "execution_count": 25,
     "metadata": {},
     "output_type": "execute_result"
    }
   ],
   "source": [
    "# Explore data\n",
    "data.head()"
   ]
  },
  {
   "cell_type": "code",
   "execution_count": 26,
   "metadata": {},
   "outputs": [
    {
     "data": {
      "text/plain": [
       "dtype('float64')"
      ]
     },
     "execution_count": 26,
     "metadata": {},
     "output_type": "execute_result"
    }
   ],
   "source": [
    "# Check data type\n",
    "data['fractal_dimension_worst'].dtype"
   ]
  },
  {
   "cell_type": "code",
   "execution_count": 33,
   "metadata": {},
   "outputs": [],
   "source": [
    "# Import LDA from sklearn\n",
    "from sklearn.discriminant_analysis import LinearDiscriminantAnalysis\n",
    "from sklearn.metrics import confusion_matrix, classification_report, precision_score\n",
    "from sklearn import model_selection, metrics, grid_search\n",
    "\n",
    "# Info: http://scikit-learn.org/stable/modules/generated/sklearn.discriminant_analysis.LinearDiscriminantAnalysis.html#sklearn.discriminant_analysis.LinearDiscriminantAnalysis\n",
    "# First paper on using LDA in biology: http://www.jstor.org/stable/2983775?seq=1#page_scan_tab_contents"
   ]
  },
  {
   "cell_type": "code",
   "execution_count": 27,
   "metadata": {},
   "outputs": [
    {
     "data": {
      "text/html": [
       "<div>\n",
       "<style>\n",
       "    .dataframe thead tr:only-child th {\n",
       "        text-align: right;\n",
       "    }\n",
       "\n",
       "    .dataframe thead th {\n",
       "        text-align: left;\n",
       "    }\n",
       "\n",
       "    .dataframe tbody tr th {\n",
       "        vertical-align: top;\n",
       "    }\n",
       "</style>\n",
       "<table border=\"1\" class=\"dataframe\">\n",
       "  <thead>\n",
       "    <tr style=\"text-align: right;\">\n",
       "      <th></th>\n",
       "      <th>radius_mean</th>\n",
       "      <th>texture_mean</th>\n",
       "      <th>perimeter_mean</th>\n",
       "      <th>area_mean</th>\n",
       "      <th>smoothness_mean</th>\n",
       "      <th>compactness_mean</th>\n",
       "      <th>concavity_mean</th>\n",
       "      <th>concave_points_mean</th>\n",
       "      <th>symmetry_mean</th>\n",
       "      <th>fractal_dimension_mean</th>\n",
       "      <th>...</th>\n",
       "      <th>radius_worst</th>\n",
       "      <th>texture_worst</th>\n",
       "      <th>perimeter_worst</th>\n",
       "      <th>area_worst</th>\n",
       "      <th>smoothness_worst</th>\n",
       "      <th>compactness_worst</th>\n",
       "      <th>concavity_worst</th>\n",
       "      <th>concave_points_worst</th>\n",
       "      <th>symmetry_worst</th>\n",
       "      <th>fractal_dimension_worst</th>\n",
       "    </tr>\n",
       "  </thead>\n",
       "  <tbody>\n",
       "    <tr>\n",
       "      <th>392</th>\n",
       "      <td>-0.239005</td>\n",
       "      <td>0.438392</td>\n",
       "      <td>-0.263563</td>\n",
       "      <td>-0.233494</td>\n",
       "      <td>1.227238</td>\n",
       "      <td>-0.550261</td>\n",
       "      <td>-0.745273</td>\n",
       "      <td>-0.592632</td>\n",
       "      <td>2.638762</td>\n",
       "      <td>-0.284347</td>\n",
       "      <td>...</td>\n",
       "      <td>-0.368913</td>\n",
       "      <td>-0.145558</td>\n",
       "      <td>-0.428577</td>\n",
       "      <td>-0.349350</td>\n",
       "      <td>-0.119256</td>\n",
       "      <td>-0.972078</td>\n",
       "      <td>-0.969862</td>\n",
       "      <td>-0.794466</td>\n",
       "      <td>0.510919</td>\n",
       "      <td>-1.092594</td>\n",
       "    </tr>\n",
       "    <tr>\n",
       "      <th>150</th>\n",
       "      <td>-0.429974</td>\n",
       "      <td>-0.467354</td>\n",
       "      <td>-0.509636</td>\n",
       "      <td>-0.411892</td>\n",
       "      <td>-1.528609</td>\n",
       "      <td>-1.388717</td>\n",
       "      <td>-0.996507</td>\n",
       "      <td>-0.854272</td>\n",
       "      <td>-1.266571</td>\n",
       "      <td>-1.025898</td>\n",
       "      <td>...</td>\n",
       "      <td>-0.707782</td>\n",
       "      <td>-0.867471</td>\n",
       "      <td>-0.794639</td>\n",
       "      <td>-0.676082</td>\n",
       "      <td>-2.149090</td>\n",
       "      <td>-1.462664</td>\n",
       "      <td>-1.325090</td>\n",
       "      <td>-1.364965</td>\n",
       "      <td>-1.685291</td>\n",
       "      <td>-1.373434</td>\n",
       "    </tr>\n",
       "    <tr>\n",
       "      <th>117</th>\n",
       "      <td>-0.365432</td>\n",
       "      <td>1.087851</td>\n",
       "      <td>-0.370005</td>\n",
       "      <td>-0.329087</td>\n",
       "      <td>-1.273222</td>\n",
       "      <td>-0.562195</td>\n",
       "      <td>-0.429223</td>\n",
       "      <td>-0.760788</td>\n",
       "      <td>-1.106241</td>\n",
       "      <td>-0.380006</td>\n",
       "      <td>...</td>\n",
       "      <td>-0.358623</td>\n",
       "      <td>0.932695</td>\n",
       "      <td>-0.434338</td>\n",
       "      <td>-0.327802</td>\n",
       "      <td>-0.425402</td>\n",
       "      <td>0.629745</td>\n",
       "      <td>0.632887</td>\n",
       "      <td>0.074840</td>\n",
       "      <td>-0.093767</td>\n",
       "      <td>0.636523</td>\n",
       "    </tr>\n",
       "    <tr>\n",
       "      <th>38</th>\n",
       "      <td>-0.962562</td>\n",
       "      <td>-0.306445</td>\n",
       "      <td>-0.934186</td>\n",
       "      <td>-0.974342</td>\n",
       "      <td>0.030707</td>\n",
       "      <td>-0.124418</td>\n",
       "      <td>-0.453006</td>\n",
       "      <td>-0.553292</td>\n",
       "      <td>-0.707961</td>\n",
       "      <td>0.166392</td>\n",
       "      <td>...</td>\n",
       "      <td>-1.085057</td>\n",
       "      <td>0.244852</td>\n",
       "      <td>-1.029215</td>\n",
       "      <td>-1.107727</td>\n",
       "      <td>0.448613</td>\n",
       "      <td>0.022443</td>\n",
       "      <td>-0.241771</td>\n",
       "      <td>-0.226426</td>\n",
       "      <td>-1.003151</td>\n",
       "      <td>-0.074812</td>\n",
       "    </tr>\n",
       "    <tr>\n",
       "      <th>319</th>\n",
       "      <td>-0.579481</td>\n",
       "      <td>1.836321</td>\n",
       "      <td>-0.605254</td>\n",
       "      <td>-0.571640</td>\n",
       "      <td>-0.880673</td>\n",
       "      <td>-0.777957</td>\n",
       "      <td>-0.618262</td>\n",
       "      <td>-0.786001</td>\n",
       "      <td>-0.723067</td>\n",
       "      <td>-0.260442</td>\n",
       "      <td>...</td>\n",
       "      <td>-0.654762</td>\n",
       "      <td>1.724364</td>\n",
       "      <td>-0.656453</td>\n",
       "      <td>-0.648614</td>\n",
       "      <td>-0.508829</td>\n",
       "      <td>-0.425796</td>\n",
       "      <td>-0.407535</td>\n",
       "      <td>-0.662139</td>\n",
       "      <td>-0.731524</td>\n",
       "      <td>-0.120822</td>\n",
       "    </tr>\n",
       "  </tbody>\n",
       "</table>\n",
       "<p>5 rows × 30 columns</p>\n",
       "</div>"
      ],
      "text/plain": [
       "     radius_mean  texture_mean  perimeter_mean  area_mean  smoothness_mean  \\\n",
       "392    -0.239005      0.438392       -0.263563  -0.233494         1.227238   \n",
       "150    -0.429974     -0.467354       -0.509636  -0.411892        -1.528609   \n",
       "117    -0.365432      1.087851       -0.370005  -0.329087        -1.273222   \n",
       "38     -0.962562     -0.306445       -0.934186  -0.974342         0.030707   \n",
       "319    -0.579481      1.836321       -0.605254  -0.571640        -0.880673   \n",
       "\n",
       "     compactness_mean  concavity_mean  concave_points_mean  symmetry_mean  \\\n",
       "392         -0.550261       -0.745273            -0.592632       2.638762   \n",
       "150         -1.388717       -0.996507            -0.854272      -1.266571   \n",
       "117         -0.562195       -0.429223            -0.760788      -1.106241   \n",
       "38          -0.124418       -0.453006            -0.553292      -0.707961   \n",
       "319         -0.777957       -0.618262            -0.786001      -0.723067   \n",
       "\n",
       "     fractal_dimension_mean           ...             radius_worst  \\\n",
       "392               -0.284347           ...                -0.368913   \n",
       "150               -1.025898           ...                -0.707782   \n",
       "117               -0.380006           ...                -0.358623   \n",
       "38                 0.166392           ...                -1.085057   \n",
       "319               -0.260442           ...                -0.654762   \n",
       "\n",
       "     texture_worst  perimeter_worst  area_worst  smoothness_worst  \\\n",
       "392      -0.145558        -0.428577   -0.349350         -0.119256   \n",
       "150      -0.867471        -0.794639   -0.676082         -2.149090   \n",
       "117       0.932695        -0.434338   -0.327802         -0.425402   \n",
       "38        0.244852        -1.029215   -1.107727          0.448613   \n",
       "319       1.724364        -0.656453   -0.648614         -0.508829   \n",
       "\n",
       "     compactness_worst  concavity_worst  concave_points_worst  symmetry_worst  \\\n",
       "392          -0.972078        -0.969862             -0.794466        0.510919   \n",
       "150          -1.462664        -1.325090             -1.364965       -1.685291   \n",
       "117           0.629745         0.632887              0.074840       -0.093767   \n",
       "38            0.022443        -0.241771             -0.226426       -1.003151   \n",
       "319          -0.425796        -0.407535             -0.662139       -0.731524   \n",
       "\n",
       "     fractal_dimension_worst  \n",
       "392                -1.092594  \n",
       "150                -1.373434  \n",
       "117                 0.636523  \n",
       "38                 -0.074812  \n",
       "319                -0.120822  \n",
       "\n",
       "[5 rows x 30 columns]"
      ]
     },
     "execution_count": 27,
     "metadata": {},
     "output_type": "execute_result"
    }
   ],
   "source": [
    "# Split X and Y data\n",
    "y_train = data['diagnosis']\n",
    "y_train=y_train.map({'B': 0,'M': 1})\n",
    "x_train = data.drop(['id','diagnosis'], axis=1)\n",
    "\n",
    "x_train.head()"
   ]
  },
  {
   "cell_type": "markdown",
   "metadata": {},
   "source": [
    "# LDA"
   ]
  },
  {
   "cell_type": "code",
   "execution_count": 34,
   "metadata": {},
   "outputs": [
    {
     "name": "stdout",
     "output_type": "stream",
     "text": [
      "[ 0.63076923  0.36923077]\n",
      "[[  3.62255072e-02  -2.04853207e-02   3.48593783e-02   3.61335619e-02\n",
      "   -2.19634107e-02  -1.36864825e-02   1.28616243e-02   1.48732673e-02\n",
      "   -5.54122889e-02  -5.04830594e-02   2.83661432e-03   5.24653902e-05\n",
      "    3.69335745e-03   5.99479083e-03  -2.30683874e-02  -2.54353055e-02\n",
      "    1.36775101e-02   1.81753751e-02   5.59066984e-03  -3.06062163e-02\n",
      "    2.49865730e-02  -2.64718329e-02   2.55071097e-02   2.50387316e-02\n",
      "   -3.65706922e-02  -1.27275477e-02   4.41331688e-03   3.05506953e-03\n",
      "   -3.43907933e-02  -4.72866854e-02]\n",
      " [ -6.18852414e-02   3.49957562e-02  -5.95514380e-02  -6.17281682e-02\n",
      "    3.75208266e-02   2.33810744e-02  -2.19719414e-02  -2.54084983e-02\n",
      "    9.46626602e-02   8.62418932e-02  -4.84588280e-03  -8.96284226e-05\n",
      "   -6.30948562e-03  -1.02411010e-02   3.94084951e-02   4.34519802e-02\n",
      "   -2.33657464e-02  -3.10495990e-02  -9.55072758e-03   5.22856195e-02\n",
      "   -4.26853954e-02   4.52227145e-02  -4.35746457e-02  -4.27744998e-02\n",
      "    6.24749324e-02   2.17428940e-02  -7.53941630e-03  -5.21907707e-03\n",
      "    5.87509386e-02   8.07814209e-02]]\n",
      "[[  1.52921142e+00  -3.00408731e-01  -2.46478812e+01   2.42827228e+01\n",
      "    2.97777224e-02   2.52125873e+00  -2.40180818e-01  -4.86792321e-01\n",
      "    1.84335711e-01   1.83773440e-01  -6.77002343e-01  -4.15596994e-01\n",
      "    4.12091931e-01   7.99763183e-01   7.92037885e-03   9.21396276e-01\n",
      "   -3.88438720e-01  -4.25471999e-01  -2.07695735e-01  -1.56395678e-01\n",
      "    7.48949525e-01   6.77094461e-01   5.73921330e-01  -4.10692307e+00\n",
      "   -2.54768990e-02  -1.61653557e+00   3.54454386e-01   9.09233290e-01\n",
      "    8.56657050e-02   2.03767393e-01]]\n"
     ]
    }
   ],
   "source": [
    "# Define model\n",
    "lda = LinearDiscriminantAnalysis() #default solver is single value decomposition, no shrinkage\n",
    "\n",
    "model = lda.fit(x_train, y_train)\n",
    "y_train_pred = model.predict(x_train)\n",
    "print(model.priors_)\n",
    "print(model.means_)\n",
    "print(model.coef_)"
   ]
  },
  {
   "cell_type": "code",
   "execution_count": 35,
   "metadata": {},
   "outputs": [
    {
     "name": "stdout",
     "output_type": "stream",
     "text": [
      "(Training) Accuracy: 0.654945054945\n",
      "(Training) Recall: 0.160714285714\n",
      "(Training) Precision: 0.627906976744\n"
     ]
    }
   ],
   "source": [
    "# Metric output\n",
    "print('(Training) Accuracy:', metrics.accuracy_score(y_train, y_train_pred))\n",
    "print('(Training) Recall:', metrics.recall_score(y_train, y_train_pred))\n",
    "print('(Training) Precision:', metrics.precision_score(y_train, y_train_pred))"
   ]
  },
  {
   "cell_type": "markdown",
   "metadata": {},
   "source": [
    "# PCDA 2 components"
   ]
  },
  {
   "cell_type": "code",
   "execution_count": 52,
   "metadata": {},
   "outputs": [
    {
     "name": "stdout",
     "output_type": "stream",
     "text": [
      "PC1 explains:  44.3814656602 %\n",
      "PC2 explains:  20.2515708257 %\n"
     ]
    }
   ],
   "source": [
    "# Make PCDA - principcal component discriminant analysis which is more robust\n",
    "from sklearn.decomposition import PCA\n",
    "\n",
    "# Create new PCA model (Use 2 components)\n",
    "pca = PCA(n_components = 2)\n",
    "\n",
    "# Fit the scaled data to the model\n",
    "pca_fitted = pca.fit_transform(x_train)\n",
    "\n",
    "# Create a new dataframe to store PC's\n",
    "pca_df = pd.DataFrame(data = pca_fitted, columns = ['PC1', 'PC2'])\n",
    "\n",
    "# Print the explain variance calculated\n",
    "print(\"PC1 explains: \", pca.explained_variance_ratio_[0] * 100, \"%\")\n",
    "print(\"PC2 explains: \", pca.explained_variance_ratio_[1] * 100, \"%\")\n",
    "pc1_axis = round(pca.explained_variance_ratio_[0] * 100, 1)\n",
    "pc2_axis = round(pca.explained_variance_ratio_[1] * 100, 1)"
   ]
  },
  {
   "cell_type": "code",
   "execution_count": 51,
   "metadata": {},
   "outputs": [],
   "source": [
    "# Perform cross validation on PCA to determine number of PC's\n"
   ]
  },
  {
   "cell_type": "code",
   "execution_count": 53,
   "metadata": {},
   "outputs": [
    {
     "name": "stdout",
     "output_type": "stream",
     "text": [
      "[ 0.63076923  0.36923077]\n",
      "[[ 0.0090503  -0.11205425  0.0278526 ]\n",
      " [-0.01546093  0.19142601 -0.04758153]]\n",
      "[[-0.00184431  0.05004297 -0.02691929]]\n"
     ]
    }
   ],
   "source": [
    "# Perform LDA on PC's - output is discriminant vector with length of number of PC's\n",
    "model2 = lda.fit(pca_df, y_train)\n",
    "y_train_pred2 = model2.predict(pca_df)\n",
    "print(model.priors_)\n",
    "print(model.means_)\n",
    "print(model.coef_)"
   ]
  },
  {
   "cell_type": "code",
   "execution_count": 54,
   "metadata": {},
   "outputs": [
    {
     "name": "stdout",
     "output_type": "stream",
     "text": [
      "(Training) Accuracy: 0.628571428571\n",
      "(Training) Recall: 0.0\n",
      "(Training) Precision: 0.0\n"
     ]
    }
   ],
   "source": [
    "# Metric output on PCDA\n",
    "print('(Training) Accuracy:', metrics.accuracy_score(y_train, y_train_pred2))\n",
    "print('(Training) Recall:', metrics.recall_score(y_train, y_train_pred2))\n",
    "print('(Training) Precision:', metrics.precision_score(y_train, y_train_pred2))"
   ]
  },
  {
   "cell_type": "markdown",
   "metadata": {},
   "source": [
    "# PCDA 3 components"
   ]
  },
  {
   "cell_type": "code",
   "execution_count": 59,
   "metadata": {},
   "outputs": [
    {
     "name": "stdout",
     "output_type": "stream",
     "text": [
      "PC1 explains:  44.3814656602 %\n",
      "PC2 explains:  20.2515708257 %\n",
      "PC3 explains:  9.35784036115 %\n"
     ]
    }
   ],
   "source": [
    "# 3 components\n",
    "# Create new PCA model (Use 3 components)\n",
    "pca3 = PCA(n_components = 3)\n",
    "\n",
    "# Fit the scaled data to the model\n",
    "pca_fitted3 = pca3.fit_transform(x_train)\n",
    "\n",
    "# Create a new dataframe to store PC's\n",
    "pca_df3 = pd.DataFrame(data = pca_fitted3, columns = ['PC1', 'PC2','PC3'])\n",
    "\n",
    "# Print the explain variance calculated\n",
    "print(\"PC1 explains: \", pca3.explained_variance_ratio_[0] * 100, \"%\")\n",
    "print(\"PC2 explains: \", pca3.explained_variance_ratio_[1] * 100, \"%\")\n",
    "print(\"PC3 explains: \", pca3.explained_variance_ratio_[2] * 100, \"%\")\n",
    "pc1_axis = round(pca3.explained_variance_ratio_[0] * 100, 1)\n",
    "pc2_axis = round(pca3.explained_variance_ratio_[1] * 100, 1)\n",
    "pc3_axis = round(pca3.explained_variance_ratio_[1] * 100, 1)"
   ]
  },
  {
   "cell_type": "code",
   "execution_count": 56,
   "metadata": {},
   "outputs": [
    {
     "name": "stdout",
     "output_type": "stream",
     "text": [
      "[ 0.63076923  0.36923077]\n",
      "[[ 0.0090503  -0.11205425  0.0278526 ]\n",
      " [-0.01546093  0.19142601 -0.04758153]]\n",
      "[[-0.00184431  0.05004297 -0.02691929]]\n",
      "(Training) Accuracy: 0.628571428571\n",
      "(Training) Recall: 0.0\n",
      "(Training) Precision: 0.0\n"
     ]
    }
   ],
   "source": [
    "# 3 components:\n",
    "# Perform LDA on PC's - output is discriminant vector with length of number of PC's\n",
    "model3 = lda.fit(pca_df3, y_train)\n",
    "y_train_pred3 = model3.predict(pca_df3)\n",
    "print(model.priors_)\n",
    "print(model.means_)\n",
    "print(model.coef_)\n",
    "\n",
    "# Metric output on PCDA\n",
    "print('(Training) Accuracy:', metrics.accuracy_score(y_train, y_train_pred2))\n",
    "print('(Training) Recall:', metrics.recall_score(y_train, y_train_pred2))\n",
    "print('(Training) Precision:', metrics.precision_score(y_train, y_train_pred2))"
   ]
  },
  {
   "cell_type": "code",
   "execution_count": null,
   "metadata": {
    "collapsed": true
   },
   "outputs": [],
   "source": []
  }
 ],
 "metadata": {
  "kernelspec": {
   "display_name": "Python 3",
   "language": "python",
   "name": "python3"
  },
  "language_info": {
   "codemirror_mode": {
    "name": "ipython",
    "version": 3
   },
   "file_extension": ".py",
   "mimetype": "text/x-python",
   "name": "python",
   "nbconvert_exporter": "python",
   "pygments_lexer": "ipython3",
   "version": "3.6.2"
  }
 },
 "nbformat": 4,
 "nbformat_minor": 2
}
