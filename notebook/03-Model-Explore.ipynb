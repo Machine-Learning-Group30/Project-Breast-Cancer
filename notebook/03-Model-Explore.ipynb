{
 "cells": [
  {
   "cell_type": "markdown",
   "metadata": {},
   "source": [
    "### Project-Breast-Cancer (Feature Selection)\n",
    "https://www.kaggle.com/uciml/breast-cancer-wisconsin-data  \n",
    "https://archive.ics.uci.edu/ml/datasets/Breast+Cancer+Wisconsin+%28Diagnostic%29"
   ]
  },
  {
   "cell_type": "markdown",
   "metadata": {},
   "source": [
    "### Data import"
   ]
  },
  {
   "cell_type": "code",
   "execution_count": 1,
   "metadata": {},
   "outputs": [],
   "source": [
    "# Load required libraries\n",
    "import pandas as pd\n",
    "import numpy as np  \n",
    "import matplotlib.pyplot as plt  \n",
    "import seaborn as sns\n",
    "from sklearn import model_selection, metrics\n",
    "from sklearn.metrics import classification_report\n",
    "%matplotlib inline"
   ]
  },
  {
   "cell_type": "code",
   "execution_count": 2,
   "metadata": {},
   "outputs": [],
   "source": [
    "# Import the training data\n",
    "data_train_scaled = pd.read_csv('../output/data_train_scaled.csv', index_col = 0)\n",
    "\n",
    "# Create array of predictors\n",
    "X_train = data_train_scaled[data_train_scaled.columns.drop('diagnosis')]\n",
    "\n",
    "# Create array of labels\n",
    "Y_train = data_train_scaled['diagnosis']\n",
    "\n",
    "# Map diagnosis to 0 and 1\n",
    "Y_train = Y_train.map({'B': 0, 'M': 1})"
   ]
  },
  {
   "cell_type": "code",
   "execution_count": 3,
   "metadata": {},
   "outputs": [],
   "source": [
    "# Import the testing data\n",
    "data_test_scaled = pd.read_csv('../output/data_test_scaled.csv', index_col = 0)\n",
    "\n",
    "# Create array of predictors\n",
    "X_test = data_test_scaled.drop(['diagnosis'], axis=1)\n",
    "\n",
    "# Create array of labels\n",
    "Y_test = data_test_scaled['diagnosis']\n",
    "\n",
    "# Map diagnosis to 0 and 1\n",
    "Y_test = Y_test.map({'B': 0, 'M': 1})"
   ]
  },
  {
   "cell_type": "markdown",
   "metadata": {},
   "source": [
    "### (Simple) Support Vector Machine"
   ]
  },
  {
   "cell_type": "code",
   "execution_count": 4,
   "metadata": {},
   "outputs": [
    {
     "name": "stdout",
     "output_type": "stream",
     "text": [
      "(Training) Accuracy: 0.98021978022\n",
      "(Training) Recall: 0.946428571429\n",
      "(Training) Precision: 1.0\n",
      "(Testing) Accuracy: 0.973684210526\n",
      "(Testing) Recall: 0.931818181818\n",
      "(Testing) Precision: 1.0\n"
     ]
    }
   ],
   "source": [
    "# Logistic Regression\n",
    "from sklearn import svm\n",
    "\n",
    "# Create instance of the model\n",
    "model = svm.SVC()\n",
    "\n",
    "# Fit model\n",
    "model.fit(X_train, Y_train)\n",
    "\n",
    "# Predict on the testing dataset\n",
    "Y_train_pred = model.predict(X_train)\n",
    "\n",
    "# Print model evalulations scores\n",
    "print('(Training) Accuracy:', metrics.accuracy_score(Y_train, Y_train_pred))\n",
    "print('(Training) Recall:', metrics.recall_score(Y_train, Y_train_pred))\n",
    "print('(Training) Precision:', metrics.precision_score(Y_train, Y_train_pred))\n",
    "\n",
    "# Predict on the testing dataset\n",
    "Y_test_pred = model.predict(X_test)\n",
    "\n",
    "# Print model evalulations scores\n",
    "print('(Testing) Accuracy:', metrics.accuracy_score(Y_test, Y_test_pred))\n",
    "print('(Testing) Recall:', metrics.recall_score(Y_test, Y_test_pred))\n",
    "print('(Testing) Precision:', metrics.precision_score(Y_test, Y_test_pred))\n",
    "\n",
    "# Confusion matrix\n",
    "print(metrics.confusion_matrix(Y_test, Y_test_pred))"
   ]
  }
 ],
 "metadata": {
  "kernelspec": {
   "display_name": "Python 3",
   "language": "python",
   "name": "python3"
  },
  "language_info": {
   "codemirror_mode": {
    "name": "ipython",
    "version": 3
   },
   "file_extension": ".py",
   "mimetype": "text/x-python",
   "name": "python",
   "nbconvert_exporter": "python",
   "pygments_lexer": "ipython3",
   "version": "3.6.3"
  }
 },
 "nbformat": 4,
 "nbformat_minor": 2
}
