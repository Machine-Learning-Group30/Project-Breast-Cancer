{
 "cells": [
  {
   "cell_type": "markdown",
   "metadata": {},
   "source": [
    "### Project-Breast-Cancer (Feature Selection)\n",
    "https://www.kaggle.com/uciml/breast-cancer-wisconsin-data  \n",
    "https://archive.ics.uci.edu/ml/datasets/Breast+Cancer+Wisconsin+%28Diagnostic%29"
   ]
  },
  {
   "cell_type": "code",
   "execution_count": 26,
   "metadata": {},
   "outputs": [],
   "source": [
    "# Load required libraries\n",
    "import pandas as pd\n",
    "import numpy as np  \n",
    "import matplotlib.pyplot as plt  \n",
    "import seaborn as sns\n",
    "from sklearn import preprocessing\n",
    "from sklearn import model_selection\n",
    "%matplotlib inline"
   ]
  },
  {
   "cell_type": "code",
   "execution_count": 37,
   "metadata": {},
   "outputs": [],
   "source": [
    "# Import the training data\n",
    "training_data = pd.read_csv('../output/training_data.csv')\n",
    "\n",
    "# Create array of predictors\n",
    "X_train = training_data[training_data.columns.drop('Diagnosis')]\n",
    "\n",
    "# Create array of labels\n",
    "Y_train = training_data['Diagnosis']"
   ]
  },
  {
   "cell_type": "code",
   "execution_count": 38,
   "metadata": {},
   "outputs": [],
   "source": [
    "# Import the testing data\n",
    "testing_data = pd.read_csv('../output/testing_data.csv')\n",
    "\n",
    "# Create array of predictors\n",
    "X_test = testing_data[testing_data.columns.drop('Diagnosis')]\n",
    "\n",
    "# Create array of labels\n",
    "Y_test = testing_data['Diagnosis']"
   ]
  },
  {
   "cell_type": "code",
   "execution_count": 39,
   "metadata": {},
   "outputs": [],
   "source": [
    "# Generate a Kfold validation of 10 splits\n",
    "kfold = model_selection.KFold(n_splits=10, random_state=18)"
   ]
  },
  {
   "cell_type": "markdown",
   "metadata": {},
   "source": [
    "### Logistic Regression"
   ]
  },
  {
   "cell_type": "code",
   "execution_count": 42,
   "metadata": {},
   "outputs": [
    {
     "data": {
      "text/plain": [
       "0.92982456140350878"
      ]
     },
     "execution_count": 42,
     "metadata": {},
     "output_type": "execute_result"
    }
   ],
   "source": [
    "# Logistic Regression\n",
    "from sklearn.linear_model import LogisticRegression\n",
    "\n",
    "# Create instance of the model\n",
    "model = LogisticRegression()\n",
    "\n",
    "# Fit model\n",
    "model.fit(X_train, Y_train)\n",
    "\n",
    "# Predict on the testing dataset\n",
    "predictions = model.predict(X_test)\n",
    "\n",
    "# Print accuracy score\n",
    "model.score(X_test, Y_test)"
   ]
  },
  {
   "cell_type": "markdown",
   "metadata": {},
   "source": [
    "### Boosting Ensembles"
   ]
  },
  {
   "cell_type": "code",
   "execution_count": 28,
   "metadata": {},
   "outputs": [
    {
     "name": "stdout",
     "output_type": "stream",
     "text": [
      "0.977922705314\n"
     ]
    }
   ],
   "source": [
    "# AdaBoost Classification\n",
    "from sklearn.ensemble import AdaBoostClassifier\n",
    "\n",
    "# Create AdaBoostClassifier\n",
    "model = AdaBoostClassifier(n_estimators = 100, random_state = 18)\n",
    "\n",
    "# Run model with 10-fold cross validation\n",
    "results = model_selection.cross_val_score(model, X_train, Y_train, cv=kfold)\n",
    "\n",
    "# Calculate the mean score across the models\n",
    "print(results.mean())"
   ]
  },
  {
   "cell_type": "code",
   "execution_count": 29,
   "metadata": {},
   "outputs": [
    {
     "name": "stdout",
     "output_type": "stream",
     "text": [
      "0.964782608696\n"
     ]
    }
   ],
   "source": [
    "# Stochastic Gradient Boosting\n",
    "from sklearn.ensemble import GradientBoostingClassifier\n",
    "\n",
    "# Create AdaBoostClassifier\n",
    "model = GradientBoostingClassifier(n_estimators = 100, random_state = 18)\n",
    "\n",
    "# Run model with 10-fold cross validation\n",
    "results = model_selection.cross_val_score(model, X_train, Y_train, cv=kfold)\n",
    "\n",
    "# Calculate the mean score across the models\n",
    "print(results.mean())"
   ]
  }
 ],
 "metadata": {
  "kernelspec": {
   "display_name": "Python 3",
   "language": "python",
   "name": "python3"
  },
  "language_info": {
   "codemirror_mode": {
    "name": "ipython",
    "version": 3
   },
   "file_extension": ".py",
   "mimetype": "text/x-python",
   "name": "python",
   "nbconvert_exporter": "python",
   "pygments_lexer": "ipython3",
   "version": "3.6.3"
  }
 },
 "nbformat": 4,
 "nbformat_minor": 2
}
