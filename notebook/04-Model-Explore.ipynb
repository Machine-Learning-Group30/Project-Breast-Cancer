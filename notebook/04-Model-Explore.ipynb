{
 "cells": [
  {
   "cell_type": "markdown",
   "metadata": {},
   "source": [
    "### Project-Breast-Cancer (Model Exploration)\n",
    "https://www.kaggle.com/uciml/breast-cancer-wisconsin-data  \n",
    "https://archive.ics.uci.edu/ml/datasets/Breast+Cancer+Wisconsin+%28Diagnostic%29"
   ]
  },
  {
   "cell_type": "markdown",
   "metadata": {},
   "source": [
    "### Data import"
   ]
  },
  {
   "cell_type": "code",
   "execution_count": 1,
   "metadata": {},
   "outputs": [
    {
     "name": "stderr",
     "output_type": "stream",
     "text": [
      "/Users/tom/anaconda3/lib/python3.6/site-packages/sklearn/cross_validation.py:41: DeprecationWarning: This module was deprecated in version 0.18 in favor of the model_selection module into which all the refactored classes and functions are moved. Also note that the interface of the new CV iterators are different from that of this module. This module will be removed in 0.20.\n",
      "  \"This module will be removed in 0.20.\", DeprecationWarning)\n",
      "/Users/tom/anaconda3/lib/python3.6/site-packages/sklearn/grid_search.py:42: DeprecationWarning: This module was deprecated in version 0.18 in favor of the model_selection module into which all the refactored classes and functions are moved. This module will be removed in 0.20.\n",
      "  DeprecationWarning)\n"
     ]
    }
   ],
   "source": [
    "# Load required libraries\n",
    "import pandas as pd\n",
    "import numpy as np  \n",
    "import matplotlib.pyplot as plt  \n",
    "import seaborn as sns\n",
    "from ggplot import *\n",
    "%matplotlib inline\n",
    "\n",
    "# Model packages\n",
    "from sklearn import model_selection, metrics, grid_search\n",
    "from sklearn.model_selection import KFold\n",
    "from sklearn.model_selection import GridSearchCV\n",
    "from sklearn.model_selection import cross_val_score\n",
    "from sklearn.model_selection import cross_val_predict\n",
    "from sklearn.metrics import classification_report\n",
    "\n",
    "# Models to use\n",
    "from sklearn import svm"
   ]
  },
  {
   "cell_type": "code",
   "execution_count": 5,
   "metadata": {},
   "outputs": [],
   "source": [
    "# Import the training data\n",
    "data_train_scaled = pd.read_csv('../output/data_train_scaled.csv', index_col = 0)\n",
    "\n",
    "# Create array of predictors\n",
    "X_train = data_train_scaled[data_train_scaled.columns.drop('diagnosis')]\n",
    "\n",
    "# Create array of labels\n",
    "Y_train = data_train_scaled['diagnosis']\n",
    "\n",
    "# Map diagnosis to 0 and 1\n",
    "Y_train = Y_train.map({'B': 0, 'M': 1})"
   ]
  },
  {
   "cell_type": "code",
   "execution_count": 6,
   "metadata": {},
   "outputs": [],
   "source": [
    "# Import the testing data\n",
    "data_test_scaled = pd.read_csv('../output/data_test_scaled.csv', index_col = 0)\n",
    "\n",
    "# Create array of predictors\n",
    "X_test = data_test_scaled.drop(['diagnosis'], axis=1)\n",
    "\n",
    "# Create array of labels\n",
    "Y_test = data_test_scaled['diagnosis']\n",
    "\n",
    "# Map diagnosis to 0 and 1\n",
    "Y_test = Y_test.map({'B': 0, 'M': 1})"
   ]
  },
  {
   "cell_type": "markdown",
   "metadata": {},
   "source": [
    "### Baseling\n",
    "What the baseline accuracy is without any optimization"
   ]
  },
  {
   "cell_type": "code",
   "execution_count": 8,
   "metadata": {},
   "outputs": [
    {
     "data": {
      "text/plain": [
       "0.61403508771929827"
      ]
     },
     "execution_count": 8,
     "metadata": {},
     "output_type": "execute_result"
    }
   ],
   "source": [
    "from sklearn.dummy import DummyClassifier\n",
    "\n",
    "# Create a DummyClassifier\n",
    "dummy = DummyClassifier(strategy='most_frequent', random_state=30)\n",
    "\n",
    "# Fit training data\n",
    "dummy.fit(X_train, Y_train)\n",
    "\n",
    "# Get accuracy score\n",
    "dummy.score(X_test, Y_test) "
   ]
  },
  {
   "cell_type": "markdown",
   "metadata": {},
   "source": [
    "### (Simple) Support Vector Machine"
   ]
  },
  {
   "cell_type": "code",
   "execution_count": 4,
   "metadata": {},
   "outputs": [
    {
     "name": "stdout",
     "output_type": "stream",
     "text": [
      "(Training) Accuracy: 0.98021978022\n",
      "(Training) Recall: 0.946428571429\n",
      "(Training) Precision: 1.0\n",
      "(Testing) Accuracy: 0.973684210526\n",
      "(Testing) Recall: 0.931818181818\n",
      "(Testing) Precision: 1.0\n",
      "[[70  0]\n",
      " [ 3 41]]\n"
     ]
    }
   ],
   "source": [
    "# Logistic Regression\n",
    "from sklearn import svm\n",
    "\n",
    "# Create instance of the model\n",
    "model = svm.SVC()\n",
    "\n",
    "# Fit model\n",
    "model.fit(X_train, Y_train)\n",
    "\n",
    "# Predict on the testing dataset\n",
    "Y_train_pred = model.predict(X_train)\n",
    "\n",
    "# Print model evalulations scores\n",
    "print('(Training) Accuracy:', metrics.accuracy_score(Y_train, Y_train_pred))\n",
    "print('(Training) Recall:', metrics.recall_score(Y_train, Y_train_pred))\n",
    "print('(Training) Precision:', metrics.precision_score(Y_train, Y_train_pred))\n",
    "\n",
    "# Predict on the testing dataset\n",
    "Y_test_pred = model.predict(X_test)\n",
    "\n",
    "# Print model evalulations scores\n",
    "print('(Testing) Accuracy:', metrics.accuracy_score(Y_test, Y_test_pred))\n",
    "print('(Testing) Recall:', metrics.recall_score(Y_test, Y_test_pred))\n",
    "print('(Testing) Precision:', metrics.precision_score(Y_test, Y_test_pred))\n",
    "\n",
    "# Confusion matrix\n",
    "print(metrics.confusion_matrix(Y_test, Y_test_pred))"
   ]
  },
  {
   "cell_type": "markdown",
   "metadata": {},
   "source": [
    "### (Simple) Support Vector Machine with N variable's\n",
    "only use radius_mean"
   ]
  },
  {
   "cell_type": "code",
   "execution_count": 5,
   "metadata": {},
   "outputs": [
    {
     "name": "stdout",
     "output_type": "stream",
     "text": [
      "(Training) Accuracy: 0.885714285714\n",
      "(Training) Recall: 0.738095238095\n",
      "(Training) Precision: 0.939393939394\n",
      "(Testing) Accuracy: 0.885964912281\n",
      "(Testing) Recall: 0.772727272727\n",
      "(Testing) Precision: 0.918918918919\n",
      "[[67  3]\n",
      " [10 34]]\n"
     ]
    }
   ],
   "source": [
    "# Create instance of the model\n",
    "model = svm.SVC()\n",
    "\n",
    "# Fit model\n",
    "model.fit(X_train.iloc[:, 1:2], Y_train)\n",
    "\n",
    "# Predict on the testing dataset\n",
    "Y_train_pred = model.predict(X_train.iloc[:,1:2])\n",
    "\n",
    "# Print model evalulations scores\n",
    "print('(Training) Accuracy:', metrics.accuracy_score(Y_train, Y_train_pred))\n",
    "print('(Training) Recall:', metrics.recall_score(Y_train, Y_train_pred))\n",
    "print('(Training) Precision:', metrics.precision_score(Y_train, Y_train_pred))\n",
    "\n",
    "# Predict on the testing dataset\n",
    "Y_test_pred = model.predict(X_test.iloc[:,1:2])\n",
    "\n",
    "# Print model evalulations scores\n",
    "print('(Testing) Accuracy:', metrics.accuracy_score(Y_test, Y_test_pred))\n",
    "print('(Testing) Recall:', metrics.recall_score(Y_test, Y_test_pred))\n",
    "print('(Testing) Precision:', metrics.precision_score(Y_test, Y_test_pred))\n",
    "\n",
    "# Confusion matrix\n",
    "print(metrics.confusion_matrix(Y_test, Y_test_pred))"
   ]
  },
  {
   "cell_type": "markdown",
   "metadata": {},
   "source": [
    "### (Kfold-CV) Support Vector Machine"
   ]
  },
  {
   "cell_type": "code",
   "execution_count": 6,
   "metadata": {},
   "outputs": [
    {
     "name": "stdout",
     "output_type": "stream",
     "text": [
      "(Test) Accuracy: 0.9642477494909325 (+/- 0.046050265625463965)\n"
     ]
    },
    {
     "data": {
      "text/plain": [
       "0.93859649122807021"
      ]
     },
     "execution_count": 6,
     "metadata": {},
     "output_type": "execute_result"
    }
   ],
   "source": [
    "# Create SVM model\n",
    "model = svm.SVC(kernel='linear')\n",
    "\n",
    "# Perform cross validation on training (KFold = 5)\n",
    "scores = cross_val_score(model, X_train, Y_train, cv=5, scoring='f1_macro')\n",
    "\n",
    "# Get mean accuracy scores on training data\n",
    "print(\"(Test) Accuracy: {} (+/- {})\".format(scores.mean(), scores.std() * 2))\n",
    "\n",
    "# Perform cross validation on testing (KFold = 5)\n",
    "Y_test_pred = cross_val_predict(model, X_test, Y_test, cv=5)\n",
    "metrics.accuracy_score(Y_test, Y_test_pred) "
   ]
  },
  {
   "cell_type": "markdown",
   "metadata": {},
   "source": [
    "### (Grid search) Support Vector Machine\n",
    "GridSearch "
   ]
  },
  {
   "cell_type": "code",
   "execution_count": 7,
   "metadata": {},
   "outputs": [
    {
     "data": {
      "text/plain": [
       "GridSearchCV(cv=5, error_score='raise',\n",
       "       estimator=SVC(C=1.0, cache_size=200, class_weight=None, coef0=0.0,\n",
       "  decision_function_shape='ovr', degree=3, gamma='auto', kernel='linear',\n",
       "  max_iter=-1, probability=False, random_state=None, shrinking=True,\n",
       "  tol=0.001, verbose=False),\n",
       "       fit_params=None, iid=True, n_jobs=1,\n",
       "       param_grid={'C': array([  1.00000e-03,   1.00000e-02,   1.00000e-01,   1.00000e+00,\n",
       "         1.00000e+01,   1.00000e+02,   1.00000e+03,   1.00000e+04,\n",
       "         1.00000e+05,   1.00000e+06,   1.00000e+07]), 'gamma': array([  1.00000e-05,   1.00000e-04,   1.00000e-03,   1.00000e-02,\n",
       "         1.00000e-01,   1.00000e+00,   1.00000e+01,   1.00000e+02,\n",
       "         1.00000e+03])},\n",
       "       pre_dispatch='2*n_jobs', refit=True, return_train_score='warn',\n",
       "       scoring='accuracy', verbose=0)"
      ]
     },
     "execution_count": 7,
     "metadata": {},
     "output_type": "execute_result"
    }
   ],
   "source": [
    "# Set SVM model\n",
    "model = svm.SVC(kernel='linear')\n",
    "\n",
    "# Set hyperparameters\n",
    "param_C = 10. ** np.arange(-3, 8)\n",
    "param_gamma = 10. ** np.arange(-5, 4)\n",
    "parameters = {'C': param_C,\n",
    "              'gamma': param_gamma}\n",
    "\n",
    "# Grid search hyperparameters with 5-fold cross validation\n",
    "grid_search = GridSearchCV(model, parameters, cv=5, scoring = 'accuracy')\n",
    "\n",
    "# Search space to find best parameters\n",
    "grid_search.fit(X_train, Y_train)"
   ]
  },
  {
   "cell_type": "code",
   "execution_count": 8,
   "metadata": {},
   "outputs": [
    {
     "name": "stdout",
     "output_type": "stream",
     "text": [
      "The best classifier is:  SVC(C=0.10000000000000001, cache_size=200, class_weight=None, coef0=0.0,\n",
      "  decision_function_shape='ovr', degree=3, gamma=1.0000000000000001e-05,\n",
      "  kernel='linear', max_iter=-1, probability=False, random_state=None,\n",
      "  shrinking=True, tol=0.001, verbose=False)\n"
     ]
    },
    {
     "name": "stderr",
     "output_type": "stream",
     "text": [
      "/Users/tom/anaconda3/lib/python3.6/site-packages/sklearn/model_selection/_search.py:761: DeprecationWarning: The grid_scores_ attribute was deprecated in version 0.18 in favor of the more elaborate cv_results_ attribute. The grid_scores_ attribute will not be available from 0.20\n",
      "  DeprecationWarning)\n"
     ]
    },
    {
     "data": {
      "image/png": "[encoded data removed]",
      "text/plain": [
       "<matplotlib.figure.Figure at 0x1a176e0f28>"
      ]
     },
     "metadata": {},
     "output_type": "display_data"
    }
   ],
   "source": [
    "# Get best results\n",
    "print(\"The best classifier is: \", grid_search.best_estimator_)\n",
    "\n",
    "# Get just the scores\n",
    "scores = [x[1] for x in grid_search.grid_scores_]\n",
    "scores = np.array(scores).reshape(len(param_C), len(param_gamma))\n",
    "\n",
    "# Make a nice figure\n",
    "plt.figure(figsize=(8, 6))\n",
    "plt.subplots_adjust(left=0.15, right=0.95, bottom=0.15, top=0.95)\n",
    "plt.imshow(scores, interpolation='nearest')\n",
    "plt.xlabel('gamma')\n",
    "plt.ylabel('C')\n",
    "plt.colorbar()\n",
    "plt.xticks(np.arange(len(param_gamma)), param_gamma, rotation=45)\n",
    "plt.yticks(np.arange(len(param_C)), param_C)\n",
    "plt.show()"
   ]
  },
  {
   "cell_type": "code",
   "execution_count": 12,
   "metadata": {},
   "outputs": [
    {
     "ename": "TypeError",
     "evalue": "predict() takes 2 positional arguments but 3 were given",
     "output_type": "error",
     "traceback": [
      "\u001b[0;31m---------------------------------------------------------------------------\u001b[0m",
      "\u001b[0;31mTypeError\u001b[0m                                 Traceback (most recent call last)",
      "\u001b[0;32m<ipython-input-12-32279fb2304b>\u001b[0m in \u001b[0;36m<module>\u001b[0;34m()\u001b[0m\n\u001b[1;32m      4\u001b[0m \u001b[0;34m\u001b[0m\u001b[0m\n\u001b[1;32m      5\u001b[0m \u001b[0;31m# Test on testing data\u001b[0m\u001b[0;34m\u001b[0m\u001b[0;34m\u001b[0m\u001b[0m\n\u001b[0;32m----> 6\u001b[0;31m \u001b[0mgrid_search\u001b[0m\u001b[0;34m.\u001b[0m\u001b[0mpredict\u001b[0m\u001b[0;34m(\u001b[0m\u001b[0mX_test\u001b[0m\u001b[0;34m,\u001b[0m \u001b[0mY_test\u001b[0m\u001b[0;34m)\u001b[0m\u001b[0;34m\u001b[0m\u001b[0m\n\u001b[0m",
      "\u001b[0;32m~/anaconda3/lib/python3.6/site-packages/sklearn/utils/metaestimators.py\u001b[0m in \u001b[0;36m<lambda>\u001b[0;34m(*args, **kwargs)\u001b[0m\n\u001b[1;32m    113\u001b[0m \u001b[0;34m\u001b[0m\u001b[0m\n\u001b[1;32m    114\u001b[0m         \u001b[0;31m# lambda, but not partial, allows help() to work with update_wrapper\u001b[0m\u001b[0;34m\u001b[0m\u001b[0;34m\u001b[0m\u001b[0m\n\u001b[0;32m--> 115\u001b[0;31m         \u001b[0mout\u001b[0m \u001b[0;34m=\u001b[0m \u001b[0;32mlambda\u001b[0m \u001b[0;34m*\u001b[0m\u001b[0margs\u001b[0m\u001b[0;34m,\u001b[0m \u001b[0;34m**\u001b[0m\u001b[0mkwargs\u001b[0m\u001b[0;34m:\u001b[0m \u001b[0mself\u001b[0m\u001b[0;34m.\u001b[0m\u001b[0mfn\u001b[0m\u001b[0;34m(\u001b[0m\u001b[0mobj\u001b[0m\u001b[0;34m,\u001b[0m \u001b[0;34m*\u001b[0m\u001b[0margs\u001b[0m\u001b[0;34m,\u001b[0m \u001b[0;34m**\u001b[0m\u001b[0mkwargs\u001b[0m\u001b[0;34m)\u001b[0m\u001b[0;34m\u001b[0m\u001b[0m\n\u001b[0m\u001b[1;32m    116\u001b[0m         \u001b[0;31m# update the docstring of the returned function\u001b[0m\u001b[0;34m\u001b[0m\u001b[0;34m\u001b[0m\u001b[0m\n\u001b[1;32m    117\u001b[0m         \u001b[0mupdate_wrapper\u001b[0m\u001b[0;34m(\u001b[0m\u001b[0mout\u001b[0m\u001b[0;34m,\u001b[0m \u001b[0mself\u001b[0m\u001b[0;34m.\u001b[0m\u001b[0mfn\u001b[0m\u001b[0;34m)\u001b[0m\u001b[0;34m\u001b[0m\u001b[0m\n",
      "\u001b[0;31mTypeError\u001b[0m: predict() takes 2 positional arguments but 3 were given"
     ]
    }
   ],
   "source": [
    "# Store best parameter\n",
    "best_gamma = grid_search.best_estimator_.gamma\n",
    "best_c = grid_search.best_estimator_.C"
   ]
  },
  {
   "cell_type": "code",
   "execution_count": null,
   "metadata": {},
   "outputs": [],
   "source": []
  }
 ],
 "metadata": {
  "kernelspec": {
   "display_name": "Python 3",
   "language": "python",
   "name": "python3"
  },
  "language_info": {
   "codemirror_mode": {
    "name": "ipython",
    "version": 3
   },
   "file_extension": ".py",
   "mimetype": "text/x-python",
   "name": "python",
   "nbconvert_exporter": "python",
   "pygments_lexer": "ipython3",
   "version": "3.6.3"
  }
 },
 "nbformat": 4,
 "nbformat_minor": 2
}
