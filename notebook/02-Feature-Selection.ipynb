{
 "cells": [
  {
   "cell_type": "markdown",
   "metadata": {},
   "source": [
    "### Project-Breast-Cancer (Feature Selection)\n",
    "https://www.kaggle.com/uciml/breast-cancer-wisconsin-data  \n",
    "https://archive.ics.uci.edu/ml/datasets/Breast+Cancer+Wisconsin+%28Diagnostic%29"
   ]
  },
  {
   "cell_type": "code",
   "execution_count": 1,
   "metadata": {},
   "outputs": [],
   "source": [
    "# Import required libraries\n",
    "import pandas as pd\n",
    "import numpy as np  \n",
    "import matplotlib.pyplot as plt  \n",
    "import seaborn as sns\n",
    "from sklearn import preprocessing\n",
    "%matplotlib inline"
   ]
  },
  {
   "cell_type": "code",
   "execution_count": 5,
   "metadata": {},
   "outputs": [],
   "source": [
    "# Import the training data\n",
    "training_data = pd.read_csv('../output/training_data.csv')"
   ]
  },
  {
   "cell_type": "code",
   "execution_count": 4,
   "metadata": {},
   "outputs": [],
   "source": [
    "# Variables to store only mean\n",
    "vars_mean = ['radius_mean', 'texture_mean', 'perimeter_mean',\n",
    "             'area_mean', 'smoothness_mean', 'compactness_mean', 'concavity_mean',\n",
    "             'concave_points_mean', 'symmetry_mean', 'fractal_dimension_mean']\n",
    "\n",
    "# Variables to store only se\n",
    "vars_se = ['radius_se', 'texture_se', 'perimeter_se', \n",
    "           'area_se', 'smoothness_se','compactness_se', 'concavity_se', \n",
    "           'concave_points_se', 'symmetry_se', 'fractal_dimension_se']\n",
    "\n",
    "# Variables to store only worst\n",
    "vars_worst = ['radius_worst', 'texture_worst','perimeter_worst', \n",
    "              'area_worst', 'smoothness_worst','compactness_worst', 'concavity_worst', \n",
    "              'concave_points_worst','symmetry_worst', 'fractal_dimension_worst']"
   ]
  },
  {
   "cell_type": "code",
   "execution_count": null,
   "metadata": {},
   "outputs": [],
   "source": []
  }
 ],
 "metadata": {
  "kernelspec": {
   "display_name": "Python 3",
   "language": "python",
   "name": "python3"
  },
  "language_info": {
   "codemirror_mode": {
    "name": "ipython",
    "version": 3
   },
   "file_extension": ".py",
   "mimetype": "text/x-python",
   "name": "python",
   "nbconvert_exporter": "python",
   "pygments_lexer": "ipython3",
   "version": "3.6.3"
  }
 },
 "nbformat": 4,
 "nbformat_minor": 2
}
